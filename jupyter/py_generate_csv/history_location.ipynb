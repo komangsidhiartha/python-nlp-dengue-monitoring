{
 "cells": [
  {
   "cell_type": "code",
   "execution_count": 1,
   "metadata": {
    "collapsed": true
   },
   "outputs": [],
   "source": [
    "from pymongo import MongoClient\n",
    "import csv\n",
    "import json"
   ]
  },
  {
   "cell_type": "code",
   "execution_count": 2,
   "metadata": {
    "collapsed": true
   },
   "outputs": [],
   "source": [
    "client = MongoClient()\n",
    "db = client[\"fwc_db\"]\n",
    "cursor = db[\"mar\"].find({\"$and\":[{\"LOC\":\"bantul\"},{\"district\" : \"kabupaten\"}]})"
   ]
  },
  {
   "cell_type": "code",
   "execution_count": 3,
   "metadata": {
    "collapsed": false
   },
   "outputs": [
    {
     "name": "stdout",
     "output_type": "stream",
     "text": [
      "[(4, [5, '4 Mar 15']), (5, [295, '5 Mar 15']), (6, [332, '6 Mar 15']), (7, [5, '7 Mar 15']), (24, [7, '24 Mar 15'])]\n"
     ]
    }
   ],
   "source": [
    "documents = {}\n",
    "for data in cursor:\n",
    "    document = []\n",
    "    date = int(data[\"time\"].replace(\" Mar 15\",\"\"))\n",
    "    if date in documents:\n",
    "        if documents[date][0] < data[\"NUM\"]:\n",
    "            # apabila index ada maka bandingkan, apabila lebih besar maka max data[\"NUM\"]\n",
    "            document.append(data[\"NUM\"])\n",
    "            document.append(str(data[\"time\"]))\n",
    "            documents[date] = document\n",
    "    else:\n",
    "        #apabila index tidak ada maka buat array object\n",
    "        document.append(data[\"NUM\"])\n",
    "        document.append(str(data[\"time\"]))\n",
    "        documents[date] = document\n",
    "        \n",
    "data_sort = sorted(documents.items())\n",
    "print data_sort"
   ]
  },
  {
   "cell_type": "code",
   "execution_count": 4,
   "metadata": {
    "collapsed": false
   },
   "outputs": [],
   "source": [
    "json_string = json.dumps(data_sort)\n",
    "\n",
    "x = json.loads(json_string)\n",
    "\n",
    "f = csv.writer(open(\"../csv/bantul_history_incident.csv\", \"wb+\"))\n",
    "\n",
    "# Write CSV Header, If you dont need that, remove this line\n",
    "f.writerow([\"date_in_num\", \"incident\", \"date\"])\n",
    "\n",
    "for index, data in enumerate(x):\n",
    "    f.writerow([data[0],data[1][0],data[1][1]])"
   ]
  }
 ],
 "metadata": {
  "anaconda-cloud": {},
  "kernelspec": {
   "display_name": "Python [conda root]",
   "language": "python",
   "name": "conda-root-py"
  },
  "language_info": {
   "codemirror_mode": {
    "name": "ipython",
    "version": 3
   },
   "file_extension": ".py",
   "mimetype": "text/x-python",
   "name": "python",
   "nbconvert_exporter": "python",
   "pygments_lexer": "ipython3",
   "version": "3.5.2"
  }
 },
 "nbformat": 4,
 "nbformat_minor": 1
}
