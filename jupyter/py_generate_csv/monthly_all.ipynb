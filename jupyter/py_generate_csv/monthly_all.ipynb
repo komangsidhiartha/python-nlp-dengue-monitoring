{
 "cells": [
  {
   "cell_type": "code",
   "execution_count": 5,
   "metadata": {
    "collapsed": true
   },
   "outputs": [],
   "source": [
    "from pymongo import MongoClient\n",
    "import csv\n",
    "import json"
   ]
  },
  {
   "cell_type": "code",
   "execution_count": 6,
   "metadata": {
    "collapsed": false
   },
   "outputs": [],
   "source": [
    "client = MongoClient()\n",
    "db = client[\"fwc_db\"]\n",
    "cursor = db[\"apr\"].aggregate([\n",
    "    {\"$match\":{\"district\":\"kabupaten\"}},\n",
    "    {\"$group\":{\"_id\":\"$LOC\", \"NUM\": {\"$max\":\"$NUM\"}, \n",
    "                       \"data\": {\n",
    "                                \"$push\":{\n",
    "                                    \"NUM\":{\"$max\":'$NUM'}, \n",
    "                                    \"date\":\"$time\", \n",
    "                                    \"text_tweet\":\"$text_tweet\", \n",
    "                                    \"url_duplicate\":\"$url_duplicate\",\n",
    "                                    \"ORG\":\"$ORG\",\n",
    "                                    \"CON\":\"$CON\"}\n",
    "                                }\n",
    "              }\n",
    "    },\n",
    "    {\"$sort\":{\"NUM\":-1}}\n",
    "])"
   ]
  },
  {
   "cell_type": "code",
   "execution_count": 7,
   "metadata": {
    "collapsed": false
   },
   "outputs": [],
   "source": [
    "arr_documents = []\n",
    "for data in cursor:\n",
    "    obj_data = {}\n",
    "    obj_data[\"LOC\"] = data[\"_id\"]\n",
    "    obj_data[\"NUM\"] = data[\"NUM\"]\n",
    "    obj_data[\"date\"] = data[\"data\"][0][\"date\"]\n",
    "    arr_documents.append(obj_data)"
   ]
  },
  {
   "cell_type": "code",
   "execution_count": 8,
   "metadata": {
    "collapsed": false
   },
   "outputs": [],
   "source": [
    "json_string = json.dumps(arr_documents)\n",
    "\n",
    "x = json.loads(json_string)\n",
    "\n",
    "f = csv.writer(open(\"../csv/april_incident.csv\", \"wb+\"))\n",
    "\n",
    "# Write CSV Header, If you dont need that, remove this line\n",
    "f.writerow([\"location\", \"incident\", \"date\"])\n",
    "\n",
    "for x in x:\n",
    "    f.writerow([x[\"LOC\"], \n",
    "                x[\"NUM\"],\n",
    "                x[\"date\"]])"
   ]
  }
 ],
 "metadata": {
  "anaconda-cloud": {},
  "kernelspec": {
   "display_name": "Python [conda root]",
   "language": "python",
   "name": "conda-root-py"
  },
  "language_info": {
   "codemirror_mode": {
    "name": "ipython",
    "version": 3
   },
   "file_extension": ".py",
   "mimetype": "text/x-python",
   "name": "python",
   "nbconvert_exporter": "python",
   "pygments_lexer": "ipython3",
   "version": "3.5.2"
  }
 },
 "nbformat": 4,
 "nbformat_minor": 1
}
