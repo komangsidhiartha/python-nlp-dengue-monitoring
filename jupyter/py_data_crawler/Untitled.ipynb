{
 "cells": [
  {
   "cell_type": "code",
   "execution_count": 1,
   "metadata": {
    "collapsed": true
   },
   "outputs": [],
   "source": [
    "from __future__ import print_function\n",
    "import tweepy\n",
    "\n",
    "consumer_key = 'XaSL7r8F2FXY2edb9lgxsyx6o'\n",
    "consumer_secret = 'o5c5F3Je33lrSR0ynvAb87QhsHvo850yAS3Y8dRvOETrSfnVNK'\n",
    "access_token = '809590676279037952-kdaRV3O9Bcodm4PjcqUdggjj03j0n8W'\n",
    "access_token_secret = 'K0u6uyBjGlPJaGPwrZWiqJxcwkGFqyVVc1klTuFPBhflC'\n",
    "\n",
    "auth = tweepy.OAuthHandler(consumer_key, consumer_secret)\n",
    "auth.set_access_token(access_token, access_token_secret)\n",
    "\n",
    "api = tweepy.API(auth)"
   ]
  },
  {
   "cell_type": "code",
   "execution_count": 17,
   "metadata": {
    "collapsed": true
   },
   "outputs": [],
   "source": [
    "i = 1\n",
    "max_id "
   ]
  },
  {
   "cell_type": "code",
   "execution_count": 25,
   "metadata": {
    "collapsed": false,
    "scrolled": false
   },
   "outputs": [],
   "source": [
    "from time import sleep\n",
    "import json\n",
    "    \n",
    "with open('dbd-id.json', 'a') as f:\n",
    "    try:\n",
    "        if max_id == 0:\n",
    "            for tweet in tweepy.Cursor(api.search, q=\"\\\"demam berdarah\\\" OR dbd OR dhf OR \\\"dengue fever\\\" OR \\\"dengue hemorrhagic\\\" OR \\\"sakit db\\\"\", lang=\"id\").items():\n",
    "                f.write(json.dumps(tweet._json) + \"\\n\")\n",
    "                i += 1\n",
    "        else:\n",
    "            for tweet in tweepy.Cursor(api.search, q=\"\\\"demam berdarah\\\" OR dbd OR dhf OR \\\"dengue fever\\\" OR \\\"dengue hemorrhagic\\\" OR \\\"sakit db\\\"\", lang=\"id\", max_id=max_id).items():\n",
    "                f.write(json.dumps(tweet._json) + \"\\n\")\n",
    "                i += 1\n",
    "    except Exception, e:\n",
    "        print(\"error\", e)"
   ]
  },
  {
   "cell_type": "code",
   "execution_count": 23,
   "metadata": {
    "collapsed": false
   },
   "outputs": [],
   "source": [
    "with open('dbd-id.json', 'r') as f:\n",
    "        for line in f: # read tweet line by line\n",
    "            tweet = json.loads(line)\n",
    "            max_id = tweet[\"id\"]"
   ]
  },
  {
   "cell_type": "code",
   "execution_count": null,
   "metadata": {
    "collapsed": true
   },
   "outputs": [],
   "source": []
  }
 ],
 "metadata": {
  "anaconda-cloud": {},
  "kernelspec": {
   "display_name": "Python [conda root]",
   "language": "python",
   "name": "conda-root-py"
  },
  "language_info": {
   "codemirror_mode": {
    "name": "ipython",
    "version": 2
   },
   "file_extension": ".py",
   "mimetype": "text/x-python",
   "name": "python",
   "nbconvert_exporter": "python",
   "pygments_lexer": "ipython2",
   "version": "2.7.12"
  }
 },
 "nbformat": 4,
 "nbformat_minor": 1
}
