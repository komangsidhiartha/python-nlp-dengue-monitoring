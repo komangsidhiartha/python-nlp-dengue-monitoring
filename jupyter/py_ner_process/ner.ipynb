{
 "cells": [
  {
   "cell_type": "code",
   "execution_count": 1,
   "metadata": {
    "collapsed": false
   },
   "outputs": [
    {
     "data": {
      "text/plain": [
       "<module 'nltk.data' from '/Users/pwcahyo/my-venv/lib/python2.7/site-packages/nltk/data.pyc'>"
      ]
     },
     "execution_count": 1,
     "metadata": {},
     "output_type": "execute_result"
    }
   ],
   "source": [
    "import os\n",
    "import sys\n",
    "import nltk\n",
    "\n",
    "nltk.data\n",
    "# nltk.data.path.remove(\"/Users/pwcahyo/my-venv/lib/python2.7/site-packages/nltk\");\n",
    "# nltk.data.path\n",
    "# export PYTHONPATH=$PATH:/Users/pwcahyo/my-venv/lib/python2.7/site-packages/\n",
    "# nltk.path.append('/Users/pwcahyo/my-venv/lib/python2.7/site-packages/nltk/data.pyc')\n",
    "# dir_of_interest = \"/Users/pwcahyo/Tesis/ner_maxent\"\n",
    "# sys.path.append(dir_of_interest)\n",
    "\n",
    "# import maxent\n",
    "# # print sys.path.append(dir_of_interest)\n",
    "# modules = {}\n",
    "\n",
    "# sys.path.append(dir_of_interest)\n",
    "# for module in os.listdir(dir_of_interest):\n",
    "#     if '.py' in module and '.pyc' not in module:\n",
    "#         current = module.replace('.py', '')\n",
    "#         modules[current] = __import__(current)"
   ]
  }
 ],
 "metadata": {
  "kernelspec": {
   "display_name": "Python 2",
   "language": "python",
   "name": "python2"
  },
  "language_info": {
   "codemirror_mode": {
    "name": "ipython",
    "version": 2
   },
   "file_extension": ".py",
   "mimetype": "text/x-python",
   "name": "python",
   "nbconvert_exporter": "python",
   "pygments_lexer": "ipython2",
   "version": "2.7.10"
  }
 },
 "nbformat": 4,
 "nbformat_minor": 1
}
