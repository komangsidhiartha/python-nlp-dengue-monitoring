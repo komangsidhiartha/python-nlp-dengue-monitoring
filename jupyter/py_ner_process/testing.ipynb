{
 "cells": [
  {
   "cell_type": "code",
   "execution_count": 94,
   "metadata": {
    "collapsed": true
   },
   "outputs": [],
   "source": [
    "import sys\n",
    "\n",
    "dir_of_interest = \"/Users/pwcahyo/Tesis/ner_maxent\"\n",
    "sys.path.append(dir_of_interest)"
   ]
  },
  {
   "cell_type": "code",
   "execution_count": 95,
   "metadata": {
    "collapsed": false
   },
   "outputs": [],
   "source": [
    "import testing as t"
   ]
  },
  {
   "cell_type": "code",
   "execution_count": 96,
   "metadata": {
    "collapsed": false
   },
   "outputs": [
    {
     "name": "stdout",
     "output_type": "stream",
     "text": [
      "================================================\n",
      "Banyak Kalimat : 3198\n",
      "Banyak Label Yang Diujikan : 859\n",
      "Banyak Label Hasil Deteksi : 887\n",
      "================================================\n",
      "TP : 812\n",
      "FP : 75\n",
      "FN : 41\n",
      "================================================\n",
      "Precision : 0.915445\n",
      "Recall : 0.951934\n",
      "F-Measure : 0.933333\n"
     ]
    }
   ],
   "source": [
    "test = t.Testing()\n",
    "result = test.test_from_db(\"apr_label\",\"apr_ner_com_str_1\")\n",
    "#result = test.test_from_db(\"apr_label\",\"apr_ner_com_str\")\n",
    "\n",
    "print \"================================================\"\n",
    "print \"Banyak Kalimat : %i\"%result[\"SENTENCES\"]\n",
    "print \"Banyak Label Yang Diujikan : %i\"%result[\"LABEL_TRAINING\"]\n",
    "print \"Banyak Label Hasil Deteksi : %i\"%result[\"LABEL_TEST\"]\n",
    "print \"================================================\"\n",
    "print \"TP : %i\"%result[\"TP\"] \n",
    "print \"FP : %i\"%result[\"FP\"] \n",
    "print \"FN : %i\"%result[\"FN\"] \n",
    "print \"================================================\"\n",
    "print \"Precision : %f\"%result[\"PRECISION\"] \n",
    "print \"Recall : %f\"%result[\"RECALL\"]\n",
    "print \"F-Measure : %f\"%result[\"F-MEASURE\"]"
   ]
  }
 ],
 "metadata": {
  "kernelspec": {
   "display_name": "Python 2",
   "language": "python",
   "name": "python2"
  },
  "language_info": {
   "codemirror_mode": {
    "name": "ipython",
    "version": 2
   },
   "file_extension": ".py",
   "mimetype": "text/x-python",
   "name": "python",
   "nbconvert_exporter": "python",
   "pygments_lexer": "ipython2",
   "version": "2.7.10"
  }
 },
 "nbformat": 4,
 "nbformat_minor": 1
}
