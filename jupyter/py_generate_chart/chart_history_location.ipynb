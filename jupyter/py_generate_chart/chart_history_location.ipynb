{
 "cells": [
  {
   "cell_type": "code",
   "execution_count": 1,
   "metadata": {
    "collapsed": false
   },
   "outputs": [],
   "source": [
    "import numpy as np  \n",
    "import matplotlib.pyplot as plt  \n",
    "import pandas as pd  \n",
    "import seaborn as sns"
   ]
  },
  {
   "cell_type": "code",
   "execution_count": 2,
   "metadata": {
    "collapsed": false
   },
   "outputs": [],
   "source": [
    "# open('bantul_history_incident.csv','r').readlines()[:10]\n",
    "budget = pd.read_csv(\"../csv/bantul_history_incident.csv\")"
   ]
  },
  {
   "cell_type": "code",
   "execution_count": null,
   "metadata": {
    "collapsed": true
   },
   "outputs": [],
   "source": [
    "# ======== BAR CHART ============\n",
    "# sns.set_style(\"darkgrid\")\n",
    "# bar_plot = sns.barplot(x=budget[\"date\"],y=budget[\"incident\"],\n",
    "#                         palette=\"muted\")\n",
    "# plt.xticks(rotation=0)\n",
    "# plt.rcParams['figure.figsize']=(10,10)\n",
    "# plt.show()"
   ]
  },
  {
   "cell_type": "code",
   "execution_count": null,
   "metadata": {
    "collapsed": false
   },
   "outputs": [],
   "source": [
    "# ======== LINE CHART ============\n",
    "sns.set_style(\"darkgrid\")\n",
    "f, (ax) = plt.subplots(figsize=(12, 6), sharex=True)\n",
    "ax = sns.pointplot(x=budget[\"date\"], y=budget[\"incident\"])\n",
    "ax.set_title('Angka Insiden Kabupaten Bantul Bulan Maret')\n",
    "for p in zip(ax.get_xticks(), budget[\"incident\"]):\n",
    "    ax.text(p[0], p[1]+8, p[1], color='g')\n",
    "plt.xticks(rotation=0)\n",
    "plt.show()"
   ]
  }
 ],
 "metadata": {
  "kernelspec": {
   "display_name": "Python 2",
   "language": "python",
   "name": "python2"
  },
  "language_info": {
   "codemirror_mode": {
    "name": "ipython",
    "version": 2
   },
   "file_extension": ".py",
   "mimetype": "text/x-python",
   "name": "python",
   "nbconvert_exporter": "python",
   "pygments_lexer": "ipython2",
   "version": "2.7.10"
  }
 },
 "nbformat": 4,
 "nbformat_minor": 1
}
